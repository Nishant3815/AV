{
 "cells": [
  {
   "cell_type": "code",
   "execution_count": 2,
   "metadata": {
    "collapsed": true
   },
   "outputs": [],
   "source": [
    "#Initial imports \n",
    "import numpy as np\n",
    "import pandas as pd \n",
    "from pandas import DataFrame, Series\n",
    "import matplotlib.pyplot as plt\n",
    "import seaborn as sns\n",
    "from scipy import stats\n",
    "%matplotlib inline\n",
    "from IPython.core.interactiveshell import InteractiveShell #Show all consecutive outputs\n",
    "InteractiveShell.ast_node_interactivity = \"all\"\n",
    "\n",
    "#Removes all unnecessary warnings by Python\n",
    "import warnings\n",
    "warnings.filterwarnings('ignore')\n",
    "\n",
    "# Imports for better visualization\n",
    "\n",
    "from collections import defaultdict\n",
    "import scipy as sp\n",
    "from matplotlib import rcParams\n",
    "import matplotlib.cm as cm\n",
    "import matplotlib as mpl\n",
    "\n",
    "#colorbrewer2 Dark2 qualitative color table\n",
    "dark2_colors = [(0.10588235294117647, 0.6196078431372549, 0.4666666666666667),\n",
    "                (0.8509803921568627, 0.37254901960784315, 0.00784313725490196),\n",
    "                (0.4588235294117647, 0.4392156862745098, 0.7019607843137254),\n",
    "                (0.9058823529411765, 0.1607843137254902, 0.5411764705882353),\n",
    "                (0.4, 0.6509803921568628, 0.11764705882352941),\n",
    "                (0.9019607843137255, 0.6705882352941176, 0.00784313725490196),\n",
    "                (0.6509803921568628, 0.4627450980392157, 0.11372549019607843)]\n",
    "\n",
    "rcParams['figure.figsize'] = (14, 6)\n",
    "rcParams['figure.dpi'] = 250\n",
    "rcParams['axes.color_cycle'] = dark2_colors\n",
    "rcParams['lines.linewidth'] = 3\n",
    "rcParams['axes.facecolor'] = 'white'\n",
    "rcParams['font.size'] = 25\n",
    "rcParams['patch.edgecolor'] = 'white'\n",
    "rcParams['patch.facecolor'] = dark2_colors[0]\n",
    "rcParams['font.family'] = 'StixGeneral'\n",
    "\n",
    "#Show all the columns \n",
    "pd.set_option('display.max_columns',None)\n",
    "\n",
    "\n",
    "#Reading in all the data from different datasets \n",
    "fractr = pd.read_csv('train.csv')\n"
   ]
  },
  {
   "cell_type": "code",
   "execution_count": 9,
   "metadata": {
    "collapsed": false
   },
   "outputs": [],
   "source": [
    "train = pd.read_csv('train.csv', parse_dates=True)\n",
    "test = pd.read_csv('test.csv',parse_dates=True)"
   ]
  },
  {
   "cell_type": "code",
   "execution_count": 10,
   "metadata": {
    "collapsed": false
   },
   "outputs": [
    {
     "data": {
      "text/plain": [
       "(266248, 6)"
      ]
     },
     "execution_count": 10,
     "metadata": {},
     "output_type": "execute_result"
    },
    {
     "data": {
      "text/plain": [
       "(881876, 8)"
      ]
     },
     "execution_count": 10,
     "metadata": {},
     "output_type": "execute_result"
    }
   ],
   "source": [
    "test.shape\n",
    "train.shape"
   ]
  },
  {
   "cell_type": "code",
   "execution_count": 17,
   "metadata": {
    "collapsed": false
   },
   "outputs": [
    {
     "data": {
      "text/html": [
       "<div>\n",
       "<table border=\"1\" class=\"dataframe\">\n",
       "  <thead>\n",
       "    <tr style=\"text-align: right;\">\n",
       "      <th></th>\n",
       "      <th>ID</th>\n",
       "      <th>Item_ID</th>\n",
       "      <th>Category_3</th>\n",
       "      <th>Category_2</th>\n",
       "      <th>Category_1</th>\n",
       "      <th>Price</th>\n",
       "      <th>Number_Of_Sales</th>\n",
       "      <th>Date</th>\n",
       "    </tr>\n",
       "  </thead>\n",
       "  <tbody>\n",
       "    <tr>\n",
       "      <th>0</th>\n",
       "      <td>30495_20140101</td>\n",
       "      <td>30495</td>\n",
       "      <td>0</td>\n",
       "      <td>2.0</td>\n",
       "      <td>90</td>\n",
       "      <td>165.123</td>\n",
       "      <td>1</td>\n",
       "      <td>2014-01-01</td>\n",
       "    </tr>\n",
       "    <tr>\n",
       "      <th>1</th>\n",
       "      <td>30375_20140101</td>\n",
       "      <td>30375</td>\n",
       "      <td>0</td>\n",
       "      <td>2.0</td>\n",
       "      <td>307</td>\n",
       "      <td>68.666</td>\n",
       "      <td>5</td>\n",
       "      <td>2014-01-01</td>\n",
       "    </tr>\n",
       "    <tr>\n",
       "      <th>2</th>\n",
       "      <td>30011_20140101</td>\n",
       "      <td>30011</td>\n",
       "      <td>0</td>\n",
       "      <td>3.0</td>\n",
       "      <td>67</td>\n",
       "      <td>253.314</td>\n",
       "      <td>2</td>\n",
       "      <td>2014-01-01</td>\n",
       "    </tr>\n",
       "    <tr>\n",
       "      <th>3</th>\n",
       "      <td>30864_20140101</td>\n",
       "      <td>30864</td>\n",
       "      <td>0</td>\n",
       "      <td>2.0</td>\n",
       "      <td>315</td>\n",
       "      <td>223.122</td>\n",
       "      <td>1</td>\n",
       "      <td>2014-01-01</td>\n",
       "    </tr>\n",
       "    <tr>\n",
       "      <th>4</th>\n",
       "      <td>30780_20140101</td>\n",
       "      <td>30780</td>\n",
       "      <td>1</td>\n",
       "      <td>2.0</td>\n",
       "      <td>132</td>\n",
       "      <td>28.750</td>\n",
       "      <td>1</td>\n",
       "      <td>2014-01-01</td>\n",
       "    </tr>\n",
       "  </tbody>\n",
       "</table>\n",
       "</div>"
      ],
      "text/plain": [
       "               ID  Item_ID  Category_3  Category_2  Category_1    Price  \\\n",
       "0  30495_20140101    30495           0         2.0          90  165.123   \n",
       "1  30375_20140101    30375           0         2.0         307   68.666   \n",
       "2  30011_20140101    30011           0         3.0          67  253.314   \n",
       "3  30864_20140101    30864           0         2.0         315  223.122   \n",
       "4  30780_20140101    30780           1         2.0         132   28.750   \n",
       "\n",
       "   Number_Of_Sales       Date  \n",
       "0                1 2014-01-01  \n",
       "1                5 2014-01-01  \n",
       "2                2 2014-01-01  \n",
       "3                1 2014-01-01  \n",
       "4                1 2014-01-01  "
      ]
     },
     "execution_count": 17,
     "metadata": {},
     "output_type": "execute_result"
    }
   ],
   "source": [
    "train.head()"
   ]
  },
  {
   "cell_type": "code",
   "execution_count": 43,
   "metadata": {
    "collapsed": false
   },
   "outputs": [
    {
     "data": {
      "text/html": [
       "<div>\n",
       "<table border=\"1\" class=\"dataframe\">\n",
       "  <thead>\n",
       "    <tr style=\"text-align: right;\">\n",
       "      <th></th>\n",
       "      <th>ID</th>\n",
       "      <th>Item_ID</th>\n",
       "      <th>Category_3</th>\n",
       "      <th>Category_2</th>\n",
       "      <th>Category_1</th>\n",
       "      <th>Price</th>\n",
       "      <th>Number_Of_Sales</th>\n",
       "      <th>Date</th>\n",
       "      <th>dayw</th>\n",
       "    </tr>\n",
       "  </thead>\n",
       "  <tbody>\n",
       "    <tr>\n",
       "      <th>0</th>\n",
       "      <td>30495_20140101</td>\n",
       "      <td>30495</td>\n",
       "      <td>0</td>\n",
       "      <td>2.0</td>\n",
       "      <td>90</td>\n",
       "      <td>165.123</td>\n",
       "      <td>1</td>\n",
       "      <td>2014-01-01</td>\n",
       "      <td>Wednesday</td>\n",
       "    </tr>\n",
       "    <tr>\n",
       "      <th>1</th>\n",
       "      <td>30375_20140101</td>\n",
       "      <td>30375</td>\n",
       "      <td>0</td>\n",
       "      <td>2.0</td>\n",
       "      <td>307</td>\n",
       "      <td>68.666</td>\n",
       "      <td>5</td>\n",
       "      <td>2014-01-01</td>\n",
       "      <td>Wednesday</td>\n",
       "    </tr>\n",
       "    <tr>\n",
       "      <th>2</th>\n",
       "      <td>30011_20140101</td>\n",
       "      <td>30011</td>\n",
       "      <td>0</td>\n",
       "      <td>3.0</td>\n",
       "      <td>67</td>\n",
       "      <td>253.314</td>\n",
       "      <td>2</td>\n",
       "      <td>2014-01-01</td>\n",
       "      <td>Wednesday</td>\n",
       "    </tr>\n",
       "    <tr>\n",
       "      <th>3</th>\n",
       "      <td>30864_20140101</td>\n",
       "      <td>30864</td>\n",
       "      <td>0</td>\n",
       "      <td>2.0</td>\n",
       "      <td>315</td>\n",
       "      <td>223.122</td>\n",
       "      <td>1</td>\n",
       "      <td>2014-01-01</td>\n",
       "      <td>Wednesday</td>\n",
       "    </tr>\n",
       "    <tr>\n",
       "      <th>4</th>\n",
       "      <td>30780_20140101</td>\n",
       "      <td>30780</td>\n",
       "      <td>1</td>\n",
       "      <td>2.0</td>\n",
       "      <td>132</td>\n",
       "      <td>28.750</td>\n",
       "      <td>1</td>\n",
       "      <td>2014-01-01</td>\n",
       "      <td>Wednesday</td>\n",
       "    </tr>\n",
       "  </tbody>\n",
       "</table>\n",
       "</div>"
      ],
      "text/plain": [
       "               ID  Item_ID  Category_3  Category_2  Category_1    Price  \\\n",
       "0  30495_20140101    30495           0         2.0          90  165.123   \n",
       "1  30375_20140101    30375           0         2.0         307   68.666   \n",
       "2  30011_20140101    30011           0         3.0          67  253.314   \n",
       "3  30864_20140101    30864           0         2.0         315  223.122   \n",
       "4  30780_20140101    30780           1         2.0         132   28.750   \n",
       "\n",
       "   Number_Of_Sales       Date       dayw  \n",
       "0                1 2014-01-01  Wednesday  \n",
       "1                5 2014-01-01  Wednesday  \n",
       "2                2 2014-01-01  Wednesday  \n",
       "3                1 2014-01-01  Wednesday  \n",
       "4                1 2014-01-01  Wednesday  "
      ]
     },
     "execution_count": 43,
     "metadata": {},
     "output_type": "execute_result"
    }
   ],
   "source": [
    "train.head()"
   ]
  },
  {
   "cell_type": "code",
   "execution_count": 14,
   "metadata": {
    "collapsed": false
   },
   "outputs": [],
   "source": [
    "train['Date'] = pd.to_datetime(train['Datetime'])\n",
    "test['Date'] = pd.to_datetime(test['Datetime'])"
   ]
  },
  {
   "cell_type": "code",
   "execution_count": 16,
   "metadata": {
    "collapsed": true
   },
   "outputs": [],
   "source": [
    "# del train['Datetime']\n",
    "# del test['Datetime']"
   ]
  },
  {
   "cell_type": "code",
   "execution_count": 33,
   "metadata": {
    "collapsed": false
   },
   "outputs": [],
   "source": [
    "import datetime "
   ]
  },
  {
   "cell_type": "code",
   "execution_count": 40,
   "metadata": {
    "collapsed": true
   },
   "outputs": [],
   "source": [
    "# del train['Tarikh']\n",
    "# del train['Dayw']\n",
    "# del train['Month']\n",
    "# del train['Year']\n",
    "# del test['Tarikh']\n",
    "# del test['Dayw']\n",
    "# del test['Month']\n",
    "# del test['Year']\n"
   ]
  },
  {
   "cell_type": "code",
   "execution_count": 44,
   "metadata": {
    "collapsed": true
   },
   "outputs": [],
   "source": [
    "#train['dayw'] = train['Date'].dt.weekday_name\n",
    "train['Tarikh'] = train['Date'].dt.day\n",
    "train['Month'] = train['Date'].dt.month\n",
    "train['Year'] = train['Date'].dt.year\n",
    "test['Tarikh'] = test['Date'].dt.day\n",
    "test['Month'] = test['Date'].dt.month\n",
    "test['Year'] = test['Date'].dt.year\n",
    "test['dayw'] = test['Date'].dt.weekday_name\n"
   ]
  },
  {
   "cell_type": "code",
   "execution_count": 50,
   "metadata": {
    "collapsed": false
   },
   "outputs": [],
   "source": [
    "from xgboost.sklearn import XGBRegressor\n",
    "from sklearn.cross_validation import cross_val_score, train_test_split\n",
    "from sklearn.metrics import accuracy_score\n",
    "xgb = XGBRegressor(n_estimators=400, objective='reg:linear', silent=False)"
   ]
  },
  {
   "cell_type": "code",
   "execution_count": 71,
   "metadata": {
    "collapsed": false
   },
   "outputs": [
    {
     "data": {
      "text/html": [
       "<div>\n",
       "<table border=\"1\" class=\"dataframe\">\n",
       "  <thead>\n",
       "    <tr style=\"text-align: right;\">\n",
       "      <th></th>\n",
       "      <th>ID</th>\n",
       "      <th>Item_ID</th>\n",
       "      <th>Category_3</th>\n",
       "      <th>Category_2</th>\n",
       "      <th>Category_1</th>\n",
       "      <th>Price</th>\n",
       "      <th>Number_Of_Sales</th>\n",
       "      <th>Date</th>\n",
       "      <th>dayw</th>\n",
       "      <th>Tarikh</th>\n",
       "      <th>Month</th>\n",
       "      <th>Year</th>\n",
       "    </tr>\n",
       "  </thead>\n",
       "  <tbody>\n",
       "    <tr>\n",
       "      <th>0</th>\n",
       "      <td>30495_20140101</td>\n",
       "      <td>30495</td>\n",
       "      <td>0</td>\n",
       "      <td>2.0</td>\n",
       "      <td>90</td>\n",
       "      <td>165.123</td>\n",
       "      <td>1</td>\n",
       "      <td>2014-01-01</td>\n",
       "      <td>Wednesday</td>\n",
       "      <td>1</td>\n",
       "      <td>1</td>\n",
       "      <td>2014</td>\n",
       "    </tr>\n",
       "    <tr>\n",
       "      <th>1</th>\n",
       "      <td>30375_20140101</td>\n",
       "      <td>30375</td>\n",
       "      <td>0</td>\n",
       "      <td>2.0</td>\n",
       "      <td>307</td>\n",
       "      <td>68.666</td>\n",
       "      <td>5</td>\n",
       "      <td>2014-01-01</td>\n",
       "      <td>Wednesday</td>\n",
       "      <td>1</td>\n",
       "      <td>1</td>\n",
       "      <td>2014</td>\n",
       "    </tr>\n",
       "    <tr>\n",
       "      <th>2</th>\n",
       "      <td>30011_20140101</td>\n",
       "      <td>30011</td>\n",
       "      <td>0</td>\n",
       "      <td>3.0</td>\n",
       "      <td>67</td>\n",
       "      <td>253.314</td>\n",
       "      <td>2</td>\n",
       "      <td>2014-01-01</td>\n",
       "      <td>Wednesday</td>\n",
       "      <td>1</td>\n",
       "      <td>1</td>\n",
       "      <td>2014</td>\n",
       "    </tr>\n",
       "    <tr>\n",
       "      <th>3</th>\n",
       "      <td>30864_20140101</td>\n",
       "      <td>30864</td>\n",
       "      <td>0</td>\n",
       "      <td>2.0</td>\n",
       "      <td>315</td>\n",
       "      <td>223.122</td>\n",
       "      <td>1</td>\n",
       "      <td>2014-01-01</td>\n",
       "      <td>Wednesday</td>\n",
       "      <td>1</td>\n",
       "      <td>1</td>\n",
       "      <td>2014</td>\n",
       "    </tr>\n",
       "    <tr>\n",
       "      <th>4</th>\n",
       "      <td>30780_20140101</td>\n",
       "      <td>30780</td>\n",
       "      <td>1</td>\n",
       "      <td>2.0</td>\n",
       "      <td>132</td>\n",
       "      <td>28.750</td>\n",
       "      <td>1</td>\n",
       "      <td>2014-01-01</td>\n",
       "      <td>Wednesday</td>\n",
       "      <td>1</td>\n",
       "      <td>1</td>\n",
       "      <td>2014</td>\n",
       "    </tr>\n",
       "  </tbody>\n",
       "</table>\n",
       "</div>"
      ],
      "text/plain": [
       "               ID  Item_ID  Category_3  Category_2  Category_1    Price  \\\n",
       "0  30495_20140101    30495           0         2.0          90  165.123   \n",
       "1  30375_20140101    30375           0         2.0         307   68.666   \n",
       "2  30011_20140101    30011           0         3.0          67  253.314   \n",
       "3  30864_20140101    30864           0         2.0         315  223.122   \n",
       "4  30780_20140101    30780           1         2.0         132   28.750   \n",
       "\n",
       "   Number_Of_Sales       Date       dayw  Tarikh  Month  Year  \n",
       "0                1 2014-01-01  Wednesday       1      1  2014  \n",
       "1                5 2014-01-01  Wednesday       1      1  2014  \n",
       "2                2 2014-01-01  Wednesday       1      1  2014  \n",
       "3                1 2014-01-01  Wednesday       1      1  2014  \n",
       "4                1 2014-01-01  Wednesday       1      1  2014  "
      ]
     },
     "execution_count": 71,
     "metadata": {},
     "output_type": "execute_result"
    }
   ],
   "source": [
    "train.head()"
   ]
  },
  {
   "cell_type": "code",
   "execution_count": 72,
   "metadata": {
    "collapsed": false
   },
   "outputs": [
    {
     "data": {
      "text/plain": [
       "XGBRegressor(base_score=0.5, colsample_bylevel=1, colsample_bytree=1, gamma=0,\n",
       "       learning_rate=0.1, max_delta_step=0, max_depth=3,\n",
       "       min_child_weight=1, missing=None, n_estimators=400, nthread=-1,\n",
       "       objective='reg:linear', reg_alpha=0, reg_lambda=1,\n",
       "       scale_pos_weight=1, seed=0, silent=False, subsample=1)"
      ]
     },
     "execution_count": 72,
     "metadata": {},
     "output_type": "execute_result"
    }
   ],
   "source": [
    "x_train, x_test, y_train, y_test = train_test_split(train.drop(['Item_ID', 'ID','Date','Number_Of_Sales','dayw','Price'], axis=1), train['Price'])\n",
    "xgb.fit(x_train, y_train)\n"
   ]
  },
  {
   "cell_type": "code",
   "execution_count": 73,
   "metadata": {
    "collapsed": true
   },
   "outputs": [],
   "source": [
    "predicted_train = xgb.predict(x_test)"
   ]
  },
  {
   "cell_type": "code",
   "execution_count": 74,
   "metadata": {
    "collapsed": false
   },
   "outputs": [
    {
     "data": {
      "text/html": [
       "<div>\n",
       "<table border=\"1\" class=\"dataframe\">\n",
       "  <thead>\n",
       "    <tr style=\"text-align: right;\">\n",
       "      <th></th>\n",
       "      <th>Category_1</th>\n",
       "      <th>Category_2</th>\n",
       "      <th>Category_3</th>\n",
       "      <th>Tarikh</th>\n",
       "      <th>Month</th>\n",
       "      <th>Year</th>\n",
       "    </tr>\n",
       "  </thead>\n",
       "  <tbody>\n",
       "    <tr>\n",
       "      <th>0</th>\n",
       "      <td>235</td>\n",
       "      <td>3.0</td>\n",
       "      <td>0</td>\n",
       "      <td>1</td>\n",
       "      <td>7</td>\n",
       "      <td>2016</td>\n",
       "    </tr>\n",
       "    <tr>\n",
       "      <th>1</th>\n",
       "      <td>235</td>\n",
       "      <td>3.0</td>\n",
       "      <td>0</td>\n",
       "      <td>2</td>\n",
       "      <td>7</td>\n",
       "      <td>2016</td>\n",
       "    </tr>\n",
       "  </tbody>\n",
       "</table>\n",
       "</div>"
      ],
      "text/plain": [
       "   Category_1  Category_2  Category_3  Tarikh  Month  Year\n",
       "0         235         3.0           0       1      7  2016\n",
       "1         235         3.0           0       2      7  2016"
      ]
     },
     "execution_count": 74,
     "metadata": {},
     "output_type": "execute_result"
    }
   ],
   "source": [
    "test.head(2)"
   ]
  },
  {
   "cell_type": "code",
   "execution_count": 80,
   "metadata": {
    "collapsed": false
   },
   "outputs": [
    {
     "data": {
      "text/html": [
       "<div>\n",
       "<table border=\"1\" class=\"dataframe\">\n",
       "  <thead>\n",
       "    <tr style=\"text-align: right;\">\n",
       "      <th></th>\n",
       "      <th>Category_1</th>\n",
       "      <th>Category_2</th>\n",
       "      <th>Category_3</th>\n",
       "      <th>Tarikh</th>\n",
       "      <th>Month</th>\n",
       "      <th>Year</th>\n",
       "    </tr>\n",
       "  </thead>\n",
       "  <tbody>\n",
       "    <tr>\n",
       "      <th>0</th>\n",
       "      <td>235</td>\n",
       "      <td>3.0</td>\n",
       "      <td>0</td>\n",
       "      <td>1</td>\n",
       "      <td>7</td>\n",
       "      <td>2016</td>\n",
       "    </tr>\n",
       "    <tr>\n",
       "      <th>1</th>\n",
       "      <td>235</td>\n",
       "      <td>3.0</td>\n",
       "      <td>0</td>\n",
       "      <td>2</td>\n",
       "      <td>7</td>\n",
       "      <td>2016</td>\n",
       "    </tr>\n",
       "  </tbody>\n",
       "</table>\n",
       "</div>"
      ],
      "text/plain": [
       "   Category_1  Category_2  Category_3  Tarikh  Month  Year\n",
       "0         235         3.0           0       1      7  2016\n",
       "1         235         3.0           0       2      7  2016"
      ]
     },
     "execution_count": 80,
     "metadata": {},
     "output_type": "execute_result"
    }
   ],
   "source": [
    "# test1 = test\n",
    "# del test1['Item_ID']\n",
    "# del test1['Date']\n",
    "# del test1['dayw']\n",
    "test1.head(2)\n",
    "test1.to_csv('test_mis.csv')"
   ]
  },
  {
   "cell_type": "code",
   "execution_count": null,
   "metadata": {
    "collapsed": true
   },
   "outputs": [],
   "source": [
    "#del test1['ID']"
   ]
  },
  {
   "cell_type": "code",
   "execution_count": 81,
   "metadata": {
    "collapsed": true
   },
   "outputs": [],
   "source": [
    "test1 = test1[['Category_3', 'Category_2', 'Category_1', 'Tarikh', 'Month', 'Year']]"
   ]
  },
  {
   "cell_type": "code",
   "execution_count": 82,
   "metadata": {
    "collapsed": false
   },
   "outputs": [
    {
     "data": {
      "text/html": [
       "<div>\n",
       "<table border=\"1\" class=\"dataframe\">\n",
       "  <thead>\n",
       "    <tr style=\"text-align: right;\">\n",
       "      <th></th>\n",
       "      <th>Category_3</th>\n",
       "      <th>Category_2</th>\n",
       "      <th>Category_1</th>\n",
       "      <th>Tarikh</th>\n",
       "      <th>Month</th>\n",
       "      <th>Year</th>\n",
       "    </tr>\n",
       "  </thead>\n",
       "  <tbody>\n",
       "    <tr>\n",
       "      <th>0</th>\n",
       "      <td>0</td>\n",
       "      <td>3.0</td>\n",
       "      <td>235</td>\n",
       "      <td>1</td>\n",
       "      <td>7</td>\n",
       "      <td>2016</td>\n",
       "    </tr>\n",
       "    <tr>\n",
       "      <th>1</th>\n",
       "      <td>0</td>\n",
       "      <td>3.0</td>\n",
       "      <td>235</td>\n",
       "      <td>2</td>\n",
       "      <td>7</td>\n",
       "      <td>2016</td>\n",
       "    </tr>\n",
       "    <tr>\n",
       "      <th>2</th>\n",
       "      <td>0</td>\n",
       "      <td>3.0</td>\n",
       "      <td>235</td>\n",
       "      <td>3</td>\n",
       "      <td>7</td>\n",
       "      <td>2016</td>\n",
       "    </tr>\n",
       "    <tr>\n",
       "      <th>3</th>\n",
       "      <td>0</td>\n",
       "      <td>3.0</td>\n",
       "      <td>235</td>\n",
       "      <td>4</td>\n",
       "      <td>7</td>\n",
       "      <td>2016</td>\n",
       "    </tr>\n",
       "    <tr>\n",
       "      <th>4</th>\n",
       "      <td>0</td>\n",
       "      <td>3.0</td>\n",
       "      <td>235</td>\n",
       "      <td>5</td>\n",
       "      <td>7</td>\n",
       "      <td>2016</td>\n",
       "    </tr>\n",
       "  </tbody>\n",
       "</table>\n",
       "</div>"
      ],
      "text/plain": [
       "   Category_3  Category_2  Category_1  Tarikh  Month  Year\n",
       "0           0         3.0         235       1      7  2016\n",
       "1           0         3.0         235       2      7  2016\n",
       "2           0         3.0         235       3      7  2016\n",
       "3           0         3.0         235       4      7  2016\n",
       "4           0         3.0         235       5      7  2016"
      ]
     },
     "execution_count": 82,
     "metadata": {},
     "output_type": "execute_result"
    }
   ],
   "source": [
    "test1.head()"
   ]
  },
  {
   "cell_type": "code",
   "execution_count": 83,
   "metadata": {
    "collapsed": false
   },
   "outputs": [
    {
     "name": "stderr",
     "output_type": "stream",
     "text": [
      "Exception ignored in: <bound method DMatrix.__del__ of <xgboost.core.DMatrix object at 0x000002133F44BEF0>>\n",
      "Traceback (most recent call last):\n",
      "  File \"C:\\Users\\NISHANT\\Anaconda3\\lib\\site-packages\\xgboost\\core.py\", line 324, in __del__\n",
      "    _check_call(_LIB.XGDMatrixFree(self.handle))\n",
      "AttributeError: 'DMatrix' object has no attribute 'handle'\n"
     ]
    }
   ],
   "source": [
    "test1['Price'] = xgb.predict(test1)"
   ]
  },
  {
   "cell_type": "code",
   "execution_count": 85,
   "metadata": {
    "collapsed": false
   },
   "outputs": [
    {
     "data": {
      "text/plain": [
       "XGBRegressor(base_score=0.5, colsample_bylevel=1, colsample_bytree=1, gamma=0,\n",
       "       learning_rate=0.1, max_delta_step=0, max_depth=3,\n",
       "       min_child_weight=1, missing=None, n_estimators=400, nthread=-1,\n",
       "       objective='reg:linear', reg_alpha=0, reg_lambda=1,\n",
       "       scale_pos_weight=1, seed=0, silent=False, subsample=1)"
      ]
     },
     "execution_count": 85,
     "metadata": {},
     "output_type": "execute_result"
    }
   ],
   "source": [
    "x_train1, x_test1, y_train1, y_test1 = train_test_split(train.drop(['Item_ID', 'ID','Date','Number_Of_Sales','dayw'], axis=1), train['Number_Of_Sales'])\n",
    "xgb.fit(x_train1, y_train1)"
   ]
  },
  {
   "cell_type": "code",
   "execution_count": 87,
   "metadata": {
    "collapsed": false
   },
   "outputs": [],
   "source": [
    "test1 = test1[['Category_3', 'Category_2', 'Category_1','Price', 'Tarikh', 'Month', 'Year']]\n",
    "test1['Number_Of_Sales'] = xgb.predict(test1)"
   ]
  },
  {
   "cell_type": "code",
   "execution_count": 89,
   "metadata": {
    "collapsed": false
   },
   "outputs": [],
   "source": [
    "del test1['Category_1']\n",
    "del test1['Category_2']\n",
    "del test1['Category_3']\n",
    "del test1['Year']\n",
    "del test1['Tarikh']\n",
    "del test1['Month']"
   ]
  },
  {
   "cell_type": "code",
   "execution_count": 95,
   "metadata": {
    "collapsed": false
   },
   "outputs": [],
   "source": [
    "test = pd.read_csv('test.csv')\n",
    "test1['ID'] = test['ID']"
   ]
  },
  {
   "cell_type": "code",
   "execution_count": 96,
   "metadata": {
    "collapsed": false
   },
   "outputs": [
    {
     "data": {
      "text/html": [
       "<div>\n",
       "<table border=\"1\" class=\"dataframe\">\n",
       "  <thead>\n",
       "    <tr style=\"text-align: right;\">\n",
       "      <th></th>\n",
       "      <th>Price</th>\n",
       "      <th>Number_Of_Sales</th>\n",
       "      <th>ID</th>\n",
       "    </tr>\n",
       "  </thead>\n",
       "  <tbody>\n",
       "    <tr>\n",
       "      <th>0</th>\n",
       "      <td>39.553959</td>\n",
       "      <td>215.236801</td>\n",
       "      <td>30413_20160701</td>\n",
       "    </tr>\n",
       "    <tr>\n",
       "      <th>1</th>\n",
       "      <td>39.553959</td>\n",
       "      <td>195.430161</td>\n",
       "      <td>30413_20160702</td>\n",
       "    </tr>\n",
       "    <tr>\n",
       "      <th>2</th>\n",
       "      <td>39.553959</td>\n",
       "      <td>190.984695</td>\n",
       "      <td>30413_20160703</td>\n",
       "    </tr>\n",
       "    <tr>\n",
       "      <th>3</th>\n",
       "      <td>39.553959</td>\n",
       "      <td>190.984695</td>\n",
       "      <td>30413_20160704</td>\n",
       "    </tr>\n",
       "    <tr>\n",
       "      <th>4</th>\n",
       "      <td>39.553959</td>\n",
       "      <td>182.369766</td>\n",
       "      <td>30413_20160705</td>\n",
       "    </tr>\n",
       "  </tbody>\n",
       "</table>\n",
       "</div>"
      ],
      "text/plain": [
       "       Price  Number_Of_Sales              ID\n",
       "0  39.553959       215.236801  30413_20160701\n",
       "1  39.553959       195.430161  30413_20160702\n",
       "2  39.553959       190.984695  30413_20160703\n",
       "3  39.553959       190.984695  30413_20160704\n",
       "4  39.553959       182.369766  30413_20160705"
      ]
     },
     "execution_count": 96,
     "metadata": {},
     "output_type": "execute_result"
    }
   ],
   "source": [
    "test1.head()"
   ]
  },
  {
   "cell_type": "code",
   "execution_count": 101,
   "metadata": {
    "collapsed": true
   },
   "outputs": [],
   "source": [
    "test1 = test1[['ID','Number_Of_Sales','Price']]\n"
   ]
  },
  {
   "cell_type": "code",
   "execution_count": 102,
   "metadata": {
    "collapsed": true
   },
   "outputs": [],
   "source": [
    "test1.to_csv(\"logical11.csv\",index = False)"
   ]
  },
  {
   "cell_type": "code",
   "execution_count": 103,
   "metadata": {
    "collapsed": true
   },
   "outputs": [],
   "source": [
    "test2 = pd.read_csv(\"logical11.csv\")"
   ]
  },
  {
   "cell_type": "code",
   "execution_count": 104,
   "metadata": {
    "collapsed": false
   },
   "outputs": [
    {
     "data": {
      "text/html": [
       "<div>\n",
       "<table border=\"1\" class=\"dataframe\">\n",
       "  <thead>\n",
       "    <tr style=\"text-align: right;\">\n",
       "      <th></th>\n",
       "      <th>ID</th>\n",
       "      <th>Number_Of_Sales</th>\n",
       "      <th>Price</th>\n",
       "    </tr>\n",
       "  </thead>\n",
       "  <tbody>\n",
       "    <tr>\n",
       "      <th>0</th>\n",
       "      <td>30413_20160701</td>\n",
       "      <td>215.236801</td>\n",
       "      <td>39.553959</td>\n",
       "    </tr>\n",
       "    <tr>\n",
       "      <th>1</th>\n",
       "      <td>30413_20160702</td>\n",
       "      <td>195.430161</td>\n",
       "      <td>39.553959</td>\n",
       "    </tr>\n",
       "    <tr>\n",
       "      <th>2</th>\n",
       "      <td>30413_20160703</td>\n",
       "      <td>190.984695</td>\n",
       "      <td>39.553959</td>\n",
       "    </tr>\n",
       "    <tr>\n",
       "      <th>3</th>\n",
       "      <td>30413_20160704</td>\n",
       "      <td>190.984695</td>\n",
       "      <td>39.553959</td>\n",
       "    </tr>\n",
       "    <tr>\n",
       "      <th>4</th>\n",
       "      <td>30413_20160705</td>\n",
       "      <td>182.369766</td>\n",
       "      <td>39.553959</td>\n",
       "    </tr>\n",
       "    <tr>\n",
       "      <th>5</th>\n",
       "      <td>30413_20160706</td>\n",
       "      <td>182.369766</td>\n",
       "      <td>39.553959</td>\n",
       "    </tr>\n",
       "    <tr>\n",
       "      <th>6</th>\n",
       "      <td>30413_20160707</td>\n",
       "      <td>179.179764</td>\n",
       "      <td>39.553959</td>\n",
       "    </tr>\n",
       "    <tr>\n",
       "      <th>7</th>\n",
       "      <td>30413_20160708</td>\n",
       "      <td>179.179764</td>\n",
       "      <td>39.553959</td>\n",
       "    </tr>\n",
       "    <tr>\n",
       "      <th>8</th>\n",
       "      <td>30413_20160709</td>\n",
       "      <td>179.179764</td>\n",
       "      <td>39.553959</td>\n",
       "    </tr>\n",
       "    <tr>\n",
       "      <th>9</th>\n",
       "      <td>30413_20160710</td>\n",
       "      <td>180.503922</td>\n",
       "      <td>39.553959</td>\n",
       "    </tr>\n",
       "    <tr>\n",
       "      <th>10</th>\n",
       "      <td>30413_20160711</td>\n",
       "      <td>180.503922</td>\n",
       "      <td>39.553959</td>\n",
       "    </tr>\n",
       "    <tr>\n",
       "      <th>11</th>\n",
       "      <td>30413_20160712</td>\n",
       "      <td>180.503922</td>\n",
       "      <td>39.553959</td>\n",
       "    </tr>\n",
       "    <tr>\n",
       "      <th>12</th>\n",
       "      <td>30413_20160713</td>\n",
       "      <td>180.503922</td>\n",
       "      <td>39.508209</td>\n",
       "    </tr>\n",
       "    <tr>\n",
       "      <th>13</th>\n",
       "      <td>30413_20160714</td>\n",
       "      <td>180.503922</td>\n",
       "      <td>39.508209</td>\n",
       "    </tr>\n",
       "    <tr>\n",
       "      <th>14</th>\n",
       "      <td>30413_20160715</td>\n",
       "      <td>180.503922</td>\n",
       "      <td>39.508209</td>\n",
       "    </tr>\n",
       "    <tr>\n",
       "      <th>15</th>\n",
       "      <td>30413_20160716</td>\n",
       "      <td>180.503922</td>\n",
       "      <td>39.500401</td>\n",
       "    </tr>\n",
       "    <tr>\n",
       "      <th>16</th>\n",
       "      <td>30413_20160717</td>\n",
       "      <td>180.503922</td>\n",
       "      <td>39.500401</td>\n",
       "    </tr>\n",
       "    <tr>\n",
       "      <th>17</th>\n",
       "      <td>30413_20160718</td>\n",
       "      <td>180.503922</td>\n",
       "      <td>39.500401</td>\n",
       "    </tr>\n",
       "    <tr>\n",
       "      <th>18</th>\n",
       "      <td>30413_20160719</td>\n",
       "      <td>180.503922</td>\n",
       "      <td>39.500401</td>\n",
       "    </tr>\n",
       "    <tr>\n",
       "      <th>19</th>\n",
       "      <td>30413_20160720</td>\n",
       "      <td>180.503922</td>\n",
       "      <td>39.500401</td>\n",
       "    </tr>\n",
       "    <tr>\n",
       "      <th>20</th>\n",
       "      <td>30413_20160721</td>\n",
       "      <td>180.075256</td>\n",
       "      <td>39.500401</td>\n",
       "    </tr>\n",
       "    <tr>\n",
       "      <th>21</th>\n",
       "      <td>30413_20160722</td>\n",
       "      <td>180.075256</td>\n",
       "      <td>39.500401</td>\n",
       "    </tr>\n",
       "    <tr>\n",
       "      <th>22</th>\n",
       "      <td>30413_20160723</td>\n",
       "      <td>180.075256</td>\n",
       "      <td>39.500401</td>\n",
       "    </tr>\n",
       "    <tr>\n",
       "      <th>23</th>\n",
       "      <td>30413_20160724</td>\n",
       "      <td>180.075256</td>\n",
       "      <td>39.500401</td>\n",
       "    </tr>\n",
       "    <tr>\n",
       "      <th>24</th>\n",
       "      <td>30413_20160725</td>\n",
       "      <td>180.075256</td>\n",
       "      <td>39.500401</td>\n",
       "    </tr>\n",
       "    <tr>\n",
       "      <th>25</th>\n",
       "      <td>30413_20160726</td>\n",
       "      <td>180.075256</td>\n",
       "      <td>39.500401</td>\n",
       "    </tr>\n",
       "    <tr>\n",
       "      <th>26</th>\n",
       "      <td>30413_20160727</td>\n",
       "      <td>180.075256</td>\n",
       "      <td>39.500401</td>\n",
       "    </tr>\n",
       "    <tr>\n",
       "      <th>27</th>\n",
       "      <td>30413_20160728</td>\n",
       "      <td>180.075256</td>\n",
       "      <td>39.500401</td>\n",
       "    </tr>\n",
       "    <tr>\n",
       "      <th>28</th>\n",
       "      <td>30413_20160729</td>\n",
       "      <td>180.075256</td>\n",
       "      <td>39.500401</td>\n",
       "    </tr>\n",
       "    <tr>\n",
       "      <th>29</th>\n",
       "      <td>30413_20160730</td>\n",
       "      <td>180.075256</td>\n",
       "      <td>39.500401</td>\n",
       "    </tr>\n",
       "    <tr>\n",
       "      <th>...</th>\n",
       "      <td>...</td>\n",
       "      <td>...</td>\n",
       "      <td>...</td>\n",
       "    </tr>\n",
       "    <tr>\n",
       "      <th>266218</th>\n",
       "      <td>31301_20161202</td>\n",
       "      <td>307.495392</td>\n",
       "      <td>2.732702</td>\n",
       "    </tr>\n",
       "    <tr>\n",
       "      <th>266219</th>\n",
       "      <td>31301_20161203</td>\n",
       "      <td>327.701813</td>\n",
       "      <td>2.732702</td>\n",
       "    </tr>\n",
       "    <tr>\n",
       "      <th>266220</th>\n",
       "      <td>31301_20161204</td>\n",
       "      <td>327.701813</td>\n",
       "      <td>2.732702</td>\n",
       "    </tr>\n",
       "    <tr>\n",
       "      <th>266221</th>\n",
       "      <td>31301_20161205</td>\n",
       "      <td>333.979218</td>\n",
       "      <td>2.732702</td>\n",
       "    </tr>\n",
       "    <tr>\n",
       "      <th>266222</th>\n",
       "      <td>31301_20161206</td>\n",
       "      <td>333.979218</td>\n",
       "      <td>2.732702</td>\n",
       "    </tr>\n",
       "    <tr>\n",
       "      <th>266223</th>\n",
       "      <td>31301_20161207</td>\n",
       "      <td>333.701630</td>\n",
       "      <td>2.732702</td>\n",
       "    </tr>\n",
       "    <tr>\n",
       "      <th>266224</th>\n",
       "      <td>31301_20161208</td>\n",
       "      <td>333.701630</td>\n",
       "      <td>2.732702</td>\n",
       "    </tr>\n",
       "    <tr>\n",
       "      <th>266225</th>\n",
       "      <td>31301_20161209</td>\n",
       "      <td>333.701630</td>\n",
       "      <td>2.732702</td>\n",
       "    </tr>\n",
       "    <tr>\n",
       "      <th>266226</th>\n",
       "      <td>31301_20161210</td>\n",
       "      <td>337.568817</td>\n",
       "      <td>2.732702</td>\n",
       "    </tr>\n",
       "    <tr>\n",
       "      <th>266227</th>\n",
       "      <td>31301_20161211</td>\n",
       "      <td>337.568817</td>\n",
       "      <td>2.732702</td>\n",
       "    </tr>\n",
       "    <tr>\n",
       "      <th>266228</th>\n",
       "      <td>31301_20161212</td>\n",
       "      <td>337.568817</td>\n",
       "      <td>2.732702</td>\n",
       "    </tr>\n",
       "    <tr>\n",
       "      <th>266229</th>\n",
       "      <td>31301_20161213</td>\n",
       "      <td>398.665649</td>\n",
       "      <td>2.686954</td>\n",
       "    </tr>\n",
       "    <tr>\n",
       "      <th>266230</th>\n",
       "      <td>31301_20161214</td>\n",
       "      <td>398.665649</td>\n",
       "      <td>2.686954</td>\n",
       "    </tr>\n",
       "    <tr>\n",
       "      <th>266231</th>\n",
       "      <td>31301_20161215</td>\n",
       "      <td>398.665649</td>\n",
       "      <td>2.686954</td>\n",
       "    </tr>\n",
       "    <tr>\n",
       "      <th>266232</th>\n",
       "      <td>31301_20161216</td>\n",
       "      <td>398.665649</td>\n",
       "      <td>2.679147</td>\n",
       "    </tr>\n",
       "    <tr>\n",
       "      <th>266233</th>\n",
       "      <td>31301_20161217</td>\n",
       "      <td>398.665649</td>\n",
       "      <td>2.679147</td>\n",
       "    </tr>\n",
       "    <tr>\n",
       "      <th>266234</th>\n",
       "      <td>31301_20161218</td>\n",
       "      <td>398.665649</td>\n",
       "      <td>2.679147</td>\n",
       "    </tr>\n",
       "    <tr>\n",
       "      <th>266235</th>\n",
       "      <td>31301_20161219</td>\n",
       "      <td>398.665649</td>\n",
       "      <td>2.679147</td>\n",
       "    </tr>\n",
       "    <tr>\n",
       "      <th>266236</th>\n",
       "      <td>31301_20161220</td>\n",
       "      <td>398.665649</td>\n",
       "      <td>2.679147</td>\n",
       "    </tr>\n",
       "    <tr>\n",
       "      <th>266237</th>\n",
       "      <td>31301_20161221</td>\n",
       "      <td>401.554291</td>\n",
       "      <td>2.679147</td>\n",
       "    </tr>\n",
       "    <tr>\n",
       "      <th>266238</th>\n",
       "      <td>31301_20161222</td>\n",
       "      <td>401.554291</td>\n",
       "      <td>2.679147</td>\n",
       "    </tr>\n",
       "    <tr>\n",
       "      <th>266239</th>\n",
       "      <td>31301_20161223</td>\n",
       "      <td>401.554291</td>\n",
       "      <td>2.679147</td>\n",
       "    </tr>\n",
       "    <tr>\n",
       "      <th>266240</th>\n",
       "      <td>31301_20161224</td>\n",
       "      <td>401.554291</td>\n",
       "      <td>2.679147</td>\n",
       "    </tr>\n",
       "    <tr>\n",
       "      <th>266241</th>\n",
       "      <td>31301_20161225</td>\n",
       "      <td>437.285736</td>\n",
       "      <td>2.679147</td>\n",
       "    </tr>\n",
       "    <tr>\n",
       "      <th>266242</th>\n",
       "      <td>31301_20161226</td>\n",
       "      <td>437.285736</td>\n",
       "      <td>2.679147</td>\n",
       "    </tr>\n",
       "    <tr>\n",
       "      <th>266243</th>\n",
       "      <td>31301_20161227</td>\n",
       "      <td>437.285736</td>\n",
       "      <td>2.679147</td>\n",
       "    </tr>\n",
       "    <tr>\n",
       "      <th>266244</th>\n",
       "      <td>31301_20161228</td>\n",
       "      <td>437.285736</td>\n",
       "      <td>2.679147</td>\n",
       "    </tr>\n",
       "    <tr>\n",
       "      <th>266245</th>\n",
       "      <td>31301_20161229</td>\n",
       "      <td>437.285736</td>\n",
       "      <td>2.679147</td>\n",
       "    </tr>\n",
       "    <tr>\n",
       "      <th>266246</th>\n",
       "      <td>31301_20161230</td>\n",
       "      <td>437.285736</td>\n",
       "      <td>2.679147</td>\n",
       "    </tr>\n",
       "    <tr>\n",
       "      <th>266247</th>\n",
       "      <td>31301_20161231</td>\n",
       "      <td>437.285736</td>\n",
       "      <td>2.679147</td>\n",
       "    </tr>\n",
       "  </tbody>\n",
       "</table>\n",
       "<p>266248 rows × 3 columns</p>\n",
       "</div>"
      ],
      "text/plain": [
       "                    ID  Number_Of_Sales      Price\n",
       "0       30413_20160701       215.236801  39.553959\n",
       "1       30413_20160702       195.430161  39.553959\n",
       "2       30413_20160703       190.984695  39.553959\n",
       "3       30413_20160704       190.984695  39.553959\n",
       "4       30413_20160705       182.369766  39.553959\n",
       "5       30413_20160706       182.369766  39.553959\n",
       "6       30413_20160707       179.179764  39.553959\n",
       "7       30413_20160708       179.179764  39.553959\n",
       "8       30413_20160709       179.179764  39.553959\n",
       "9       30413_20160710       180.503922  39.553959\n",
       "10      30413_20160711       180.503922  39.553959\n",
       "11      30413_20160712       180.503922  39.553959\n",
       "12      30413_20160713       180.503922  39.508209\n",
       "13      30413_20160714       180.503922  39.508209\n",
       "14      30413_20160715       180.503922  39.508209\n",
       "15      30413_20160716       180.503922  39.500401\n",
       "16      30413_20160717       180.503922  39.500401\n",
       "17      30413_20160718       180.503922  39.500401\n",
       "18      30413_20160719       180.503922  39.500401\n",
       "19      30413_20160720       180.503922  39.500401\n",
       "20      30413_20160721       180.075256  39.500401\n",
       "21      30413_20160722       180.075256  39.500401\n",
       "22      30413_20160723       180.075256  39.500401\n",
       "23      30413_20160724       180.075256  39.500401\n",
       "24      30413_20160725       180.075256  39.500401\n",
       "25      30413_20160726       180.075256  39.500401\n",
       "26      30413_20160727       180.075256  39.500401\n",
       "27      30413_20160728       180.075256  39.500401\n",
       "28      30413_20160729       180.075256  39.500401\n",
       "29      30413_20160730       180.075256  39.500401\n",
       "...                ...              ...        ...\n",
       "266218  31301_20161202       307.495392   2.732702\n",
       "266219  31301_20161203       327.701813   2.732702\n",
       "266220  31301_20161204       327.701813   2.732702\n",
       "266221  31301_20161205       333.979218   2.732702\n",
       "266222  31301_20161206       333.979218   2.732702\n",
       "266223  31301_20161207       333.701630   2.732702\n",
       "266224  31301_20161208       333.701630   2.732702\n",
       "266225  31301_20161209       333.701630   2.732702\n",
       "266226  31301_20161210       337.568817   2.732702\n",
       "266227  31301_20161211       337.568817   2.732702\n",
       "266228  31301_20161212       337.568817   2.732702\n",
       "266229  31301_20161213       398.665649   2.686954\n",
       "266230  31301_20161214       398.665649   2.686954\n",
       "266231  31301_20161215       398.665649   2.686954\n",
       "266232  31301_20161216       398.665649   2.679147\n",
       "266233  31301_20161217       398.665649   2.679147\n",
       "266234  31301_20161218       398.665649   2.679147\n",
       "266235  31301_20161219       398.665649   2.679147\n",
       "266236  31301_20161220       398.665649   2.679147\n",
       "266237  31301_20161221       401.554291   2.679147\n",
       "266238  31301_20161222       401.554291   2.679147\n",
       "266239  31301_20161223       401.554291   2.679147\n",
       "266240  31301_20161224       401.554291   2.679147\n",
       "266241  31301_20161225       437.285736   2.679147\n",
       "266242  31301_20161226       437.285736   2.679147\n",
       "266243  31301_20161227       437.285736   2.679147\n",
       "266244  31301_20161228       437.285736   2.679147\n",
       "266245  31301_20161229       437.285736   2.679147\n",
       "266246  31301_20161230       437.285736   2.679147\n",
       "266247  31301_20161231       437.285736   2.679147\n",
       "\n",
       "[266248 rows x 3 columns]"
      ]
     },
     "execution_count": 104,
     "metadata": {},
     "output_type": "execute_result"
    }
   ],
   "source": [
    "test2"
   ]
  },
  {
   "cell_type": "code",
   "execution_count": 105,
   "metadata": {
    "collapsed": false
   },
   "outputs": [
    {
     "data": {
      "text/plain": [
       "(266248, 3)"
      ]
     },
     "execution_count": 105,
     "metadata": {},
     "output_type": "execute_result"
    }
   ],
   "source": [
    "test2.shape"
   ]
  },
  {
   "cell_type": "code",
   "execution_count": null,
   "metadata": {
    "collapsed": true
   },
   "outputs": [],
   "source": []
  }
 ],
 "metadata": {
  "anaconda-cloud": {},
  "kernelspec": {
   "display_name": "Python [Root]",
   "language": "python",
   "name": "Python [Root]"
  },
  "language_info": {
   "codemirror_mode": {
    "name": "ipython",
    "version": 3
   },
   "file_extension": ".py",
   "mimetype": "text/x-python",
   "name": "python",
   "nbconvert_exporter": "python",
   "pygments_lexer": "ipython3",
   "version": "3.5.2"
  }
 },
 "nbformat": 4,
 "nbformat_minor": 0
}
